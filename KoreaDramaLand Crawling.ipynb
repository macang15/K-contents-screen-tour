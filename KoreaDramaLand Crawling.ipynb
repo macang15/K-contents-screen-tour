{
 "cells": [
  {
   "cell_type": "code",
   "execution_count": 8,
   "id": "f6657f08",
   "metadata": {},
   "outputs": [],
   "source": [
    "import requests\n",
    "from bs4 import BeautifulSoup as bs\n",
    "import time\n",
    "import random\n",
    "random.seed(10)\n",
    "import tqdm\n",
    "import openpyxl\n",
    "from datetime import datetime\n",
    "from tqdm.notebook import tqdm\n",
    "\n",
    "import pandas as pd\n",
    "import numpy as np\n",
    "import selenium\n",
    "from selenium import webdriver\n",
    "from selenium.webdriver.chrome.options import Options\n",
    "from selenium.webdriver.common.by import By\n",
    "from selenium.webdriver.common.keys import Keys\n",
    "from selenium.webdriver.support.ui import WebDriverWait\n",
    "\n",
    "from selenium.webdriver.support.ui import WebDriverWait\n",
    "from selenium.webdriver.support import expected_conditions as EC\n",
    "from selenium.webdriver.common.action_chains import ActionChains\n",
    "from selenium.common.exceptions import NoSuchElementException\n",
    "from selenium.common.exceptions import TimeoutException\n",
    "#from fake_useragent import UserAgent\n",
    "#import pyautogui as pag"
   ]
  },
  {
   "cell_type": "code",
   "execution_count": 9,
   "id": "5495b499",
   "metadata": {},
   "outputs": [],
   "source": [
    "options = Options()\n",
    "#ua = UserAgent()\n",
    "\n",
    "# 사람처럼 보이게 하는 옵션들\n",
    "options.add_argument(\"lang=ko_KR\")    # 가짜 플러그인 탑재\n",
    "#options.add_argument('user-agent={}'.format(ua.random))\n",
    "options.add_argument(\"--no-sandbox\");\n",
    "options.add_argument(\"enable-automation\");\n",
    "\n",
    "path = './chromedriver.exe'\n",
    "url = \"https://koreandramaland.com\""
   ]
  },
  {
   "cell_type": "code",
   "execution_count": 10,
   "id": "394ba23a",
   "metadata": {
    "scrolled": true
   },
   "outputs": [
    {
     "name": "stderr",
     "output_type": "stream",
     "text": [
      "/var/folders/hg/016b5bxj0959pt687jby_q0r0000gn/T/ipykernel_13200/734399677.py:4: DeprecationWarning: executable_path has been deprecated, please pass in a Service object\n",
      "  driver = webdriver.Chrome(path, options=options)\n"
     ]
    },
    {
     "ename": "WebDriverException",
     "evalue": "Message: 'chromedriver.exe' executable needs to be in PATH. Please see https://chromedriver.chromium.org/home\n",
     "output_type": "error",
     "traceback": [
      "\u001b[0;31m---------------------------------------------------------------------------\u001b[0m",
      "\u001b[0;31mFileNotFoundError\u001b[0m                         Traceback (most recent call last)",
      "\u001b[0;32m~/opt/anaconda3/lib/python3.9/site-packages/selenium/webdriver/common/service.py\u001b[0m in \u001b[0;36mstart\u001b[0;34m(self)\u001b[0m\n\u001b[1;32m     70\u001b[0m             \u001b[0mcmd\u001b[0m\u001b[0;34m.\u001b[0m\u001b[0mextend\u001b[0m\u001b[0;34m(\u001b[0m\u001b[0mself\u001b[0m\u001b[0;34m.\u001b[0m\u001b[0mcommand_line_args\u001b[0m\u001b[0;34m(\u001b[0m\u001b[0;34m)\u001b[0m\u001b[0;34m)\u001b[0m\u001b[0;34m\u001b[0m\u001b[0;34m\u001b[0m\u001b[0m\n\u001b[0;32m---> 71\u001b[0;31m             self.process = subprocess.Popen(cmd, env=self.env,\n\u001b[0m\u001b[1;32m     72\u001b[0m                                             \u001b[0mclose_fds\u001b[0m\u001b[0;34m=\u001b[0m\u001b[0msystem\u001b[0m\u001b[0;34m(\u001b[0m\u001b[0;34m)\u001b[0m \u001b[0;34m!=\u001b[0m \u001b[0;34m'Windows'\u001b[0m\u001b[0;34m,\u001b[0m\u001b[0;34m\u001b[0m\u001b[0;34m\u001b[0m\u001b[0m\n",
      "\u001b[0;32m~/opt/anaconda3/lib/python3.9/subprocess.py\u001b[0m in \u001b[0;36m__init__\u001b[0;34m(self, args, bufsize, executable, stdin, stdout, stderr, preexec_fn, close_fds, shell, cwd, env, universal_newlines, startupinfo, creationflags, restore_signals, start_new_session, pass_fds, user, group, extra_groups, encoding, errors, text, umask)\u001b[0m\n\u001b[1;32m    950\u001b[0m \u001b[0;34m\u001b[0m\u001b[0m\n\u001b[0;32m--> 951\u001b[0;31m             self._execute_child(args, executable, preexec_fn, close_fds,\n\u001b[0m\u001b[1;32m    952\u001b[0m                                 \u001b[0mpass_fds\u001b[0m\u001b[0;34m,\u001b[0m \u001b[0mcwd\u001b[0m\u001b[0;34m,\u001b[0m \u001b[0menv\u001b[0m\u001b[0;34m,\u001b[0m\u001b[0;34m\u001b[0m\u001b[0;34m\u001b[0m\u001b[0m\n",
      "\u001b[0;32m~/opt/anaconda3/lib/python3.9/subprocess.py\u001b[0m in \u001b[0;36m_execute_child\u001b[0;34m(self, args, executable, preexec_fn, close_fds, pass_fds, cwd, env, startupinfo, creationflags, shell, p2cread, p2cwrite, c2pread, c2pwrite, errread, errwrite, restore_signals, gid, gids, uid, umask, start_new_session)\u001b[0m\n\u001b[1;32m   1820\u001b[0m                         \u001b[0merr_msg\u001b[0m \u001b[0;34m=\u001b[0m \u001b[0mos\u001b[0m\u001b[0;34m.\u001b[0m\u001b[0mstrerror\u001b[0m\u001b[0;34m(\u001b[0m\u001b[0merrno_num\u001b[0m\u001b[0;34m)\u001b[0m\u001b[0;34m\u001b[0m\u001b[0;34m\u001b[0m\u001b[0m\n\u001b[0;32m-> 1821\u001b[0;31m                     \u001b[0;32mraise\u001b[0m \u001b[0mchild_exception_type\u001b[0m\u001b[0;34m(\u001b[0m\u001b[0merrno_num\u001b[0m\u001b[0;34m,\u001b[0m \u001b[0merr_msg\u001b[0m\u001b[0;34m,\u001b[0m \u001b[0merr_filename\u001b[0m\u001b[0;34m)\u001b[0m\u001b[0;34m\u001b[0m\u001b[0;34m\u001b[0m\u001b[0m\n\u001b[0m\u001b[1;32m   1822\u001b[0m                 \u001b[0;32mraise\u001b[0m \u001b[0mchild_exception_type\u001b[0m\u001b[0;34m(\u001b[0m\u001b[0merr_msg\u001b[0m\u001b[0;34m)\u001b[0m\u001b[0;34m\u001b[0m\u001b[0;34m\u001b[0m\u001b[0m\n",
      "\u001b[0;31mFileNotFoundError\u001b[0m: [Errno 2] No such file or directory: './chromedriver.exe'",
      "\nDuring handling of the above exception, another exception occurred:\n",
      "\u001b[0;31mWebDriverException\u001b[0m                        Traceback (most recent call last)",
      "\u001b[0;32m/var/folders/hg/016b5bxj0959pt687jby_q0r0000gn/T/ipykernel_13200/734399677.py\u001b[0m in \u001b[0;36m<module>\u001b[0;34m\u001b[0m\n\u001b[1;32m      2\u001b[0m \u001b[0;31m# all_item_list = \"main > div > div > div.myflex__left > div.grid.list.job_listings\"\u001b[0m\u001b[0;34m\u001b[0m\u001b[0;34m\u001b[0m\u001b[0m\n\u001b[1;32m      3\u001b[0m \u001b[0;34m\u001b[0m\u001b[0m\n\u001b[0;32m----> 4\u001b[0;31m \u001b[0mdriver\u001b[0m \u001b[0;34m=\u001b[0m \u001b[0mwebdriver\u001b[0m\u001b[0;34m.\u001b[0m\u001b[0mChrome\u001b[0m\u001b[0;34m(\u001b[0m\u001b[0mpath\u001b[0m\u001b[0;34m,\u001b[0m \u001b[0moptions\u001b[0m\u001b[0;34m=\u001b[0m\u001b[0moptions\u001b[0m\u001b[0;34m)\u001b[0m\u001b[0;34m\u001b[0m\u001b[0;34m\u001b[0m\u001b[0m\n\u001b[0m\u001b[1;32m      5\u001b[0m \u001b[0mdriver\u001b[0m\u001b[0;34m.\u001b[0m\u001b[0mget\u001b[0m\u001b[0;34m(\u001b[0m\u001b[0murl\u001b[0m\u001b[0;34m)\u001b[0m\u001b[0;34m\u001b[0m\u001b[0;34m\u001b[0m\u001b[0m\n\u001b[1;32m      6\u001b[0m \u001b[0mtime\u001b[0m\u001b[0;34m.\u001b[0m\u001b[0msleep\u001b[0m\u001b[0;34m(\u001b[0m\u001b[0;36m1\u001b[0m\u001b[0;34m)\u001b[0m\u001b[0;34m\u001b[0m\u001b[0;34m\u001b[0m\u001b[0m\n",
      "\u001b[0;32m~/opt/anaconda3/lib/python3.9/site-packages/selenium/webdriver/chrome/webdriver.py\u001b[0m in \u001b[0;36m__init__\u001b[0;34m(self, executable_path, port, options, service_args, desired_capabilities, service_log_path, chrome_options, service, keep_alive)\u001b[0m\n\u001b[1;32m     68\u001b[0m             \u001b[0mservice\u001b[0m \u001b[0;34m=\u001b[0m \u001b[0mService\u001b[0m\u001b[0;34m(\u001b[0m\u001b[0mexecutable_path\u001b[0m\u001b[0;34m,\u001b[0m \u001b[0mport\u001b[0m\u001b[0;34m,\u001b[0m \u001b[0mservice_args\u001b[0m\u001b[0;34m,\u001b[0m \u001b[0mservice_log_path\u001b[0m\u001b[0;34m)\u001b[0m\u001b[0;34m\u001b[0m\u001b[0;34m\u001b[0m\u001b[0m\n\u001b[1;32m     69\u001b[0m \u001b[0;34m\u001b[0m\u001b[0m\n\u001b[0;32m---> 70\u001b[0;31m         super(WebDriver, self).__init__(DesiredCapabilities.CHROME['browserName'], \"goog\",\n\u001b[0m\u001b[1;32m     71\u001b[0m                                         \u001b[0mport\u001b[0m\u001b[0;34m,\u001b[0m \u001b[0moptions\u001b[0m\u001b[0;34m,\u001b[0m\u001b[0;34m\u001b[0m\u001b[0;34m\u001b[0m\u001b[0m\n\u001b[1;32m     72\u001b[0m                                         \u001b[0mservice_args\u001b[0m\u001b[0;34m,\u001b[0m \u001b[0mdesired_capabilities\u001b[0m\u001b[0;34m,\u001b[0m\u001b[0;34m\u001b[0m\u001b[0;34m\u001b[0m\u001b[0m\n",
      "\u001b[0;32m~/opt/anaconda3/lib/python3.9/site-packages/selenium/webdriver/chromium/webdriver.py\u001b[0m in \u001b[0;36m__init__\u001b[0;34m(self, browser_name, vendor_prefix, port, options, service_args, desired_capabilities, service_log_path, service, keep_alive)\u001b[0m\n\u001b[1;32m     87\u001b[0m \u001b[0;34m\u001b[0m\u001b[0m\n\u001b[1;32m     88\u001b[0m         \u001b[0mself\u001b[0m\u001b[0;34m.\u001b[0m\u001b[0mservice\u001b[0m \u001b[0;34m=\u001b[0m \u001b[0mservice\u001b[0m\u001b[0;34m\u001b[0m\u001b[0;34m\u001b[0m\u001b[0m\n\u001b[0;32m---> 89\u001b[0;31m         \u001b[0mself\u001b[0m\u001b[0;34m.\u001b[0m\u001b[0mservice\u001b[0m\u001b[0;34m.\u001b[0m\u001b[0mstart\u001b[0m\u001b[0;34m(\u001b[0m\u001b[0;34m)\u001b[0m\u001b[0;34m\u001b[0m\u001b[0;34m\u001b[0m\u001b[0m\n\u001b[0m\u001b[1;32m     90\u001b[0m \u001b[0;34m\u001b[0m\u001b[0m\n\u001b[1;32m     91\u001b[0m         \u001b[0;32mtry\u001b[0m\u001b[0;34m:\u001b[0m\u001b[0;34m\u001b[0m\u001b[0;34m\u001b[0m\u001b[0m\n",
      "\u001b[0;32m~/opt/anaconda3/lib/python3.9/site-packages/selenium/webdriver/common/service.py\u001b[0m in \u001b[0;36mstart\u001b[0;34m(self)\u001b[0m\n\u001b[1;32m     79\u001b[0m         \u001b[0;32mexcept\u001b[0m \u001b[0mOSError\u001b[0m \u001b[0;32mas\u001b[0m \u001b[0merr\u001b[0m\u001b[0;34m:\u001b[0m\u001b[0;34m\u001b[0m\u001b[0;34m\u001b[0m\u001b[0m\n\u001b[1;32m     80\u001b[0m             \u001b[0;32mif\u001b[0m \u001b[0merr\u001b[0m\u001b[0;34m.\u001b[0m\u001b[0merrno\u001b[0m \u001b[0;34m==\u001b[0m \u001b[0merrno\u001b[0m\u001b[0;34m.\u001b[0m\u001b[0mENOENT\u001b[0m\u001b[0;34m:\u001b[0m\u001b[0;34m\u001b[0m\u001b[0;34m\u001b[0m\u001b[0m\n\u001b[0;32m---> 81\u001b[0;31m                 raise WebDriverException(\n\u001b[0m\u001b[1;32m     82\u001b[0m                     \"'%s' executable needs to be in PATH. %s\" % (\n\u001b[1;32m     83\u001b[0m                         os.path.basename(self.path), self.start_error_message)\n",
      "\u001b[0;31mWebDriverException\u001b[0m: Message: 'chromedriver.exe' executable needs to be in PATH. Please see https://chromedriver.chromium.org/home\n"
     ]
    }
   ],
   "source": [
    "load_btn = '#main > div > div > div.myflex__left > a'\n",
    "# all_item_list = \"main > div > div > div.myflex__left > div.grid.list.job_listings\"\n",
    "\n",
    "driver = webdriver.Chrome(path, options=options)\n",
    "driver.get(url)\n",
    "time.sleep(1)\n",
    "\n",
    "keyword = driver.find_element(By.ID,\"search_keywords\")\n",
    "keyword.send_keys(\"busan\")\n",
    "keyword.send_keys(Keys.CONTROL + \"\\n\")\n",
    "driver.close()\n",
    "driver.switch_to_window(driver.window_handles[-1])\n",
    "time.sleep(random.uniform(3,5))\n",
    "\n",
    "cnt = 0\n",
    "while True:\n",
    "    driver.find_element(By.CSS_SELECTOR,load_btn).click()\n",
    "    time.sleep(random.uniform(3,5))\n",
    "    cnt+=1\n",
    "    print(f\"Clicked loading button for {cnt} times\")\n",
    "    if cnt == 2:\n",
    "        driver.execute_script(\"window.scrollTo(0,document.body.scrollHeight)\")\n",
    "        break\n",
    "print(\"Finished Clicking\")\n",
    "\n",
    "\n",
    "good_place = driver.find_elements_by_css_selector(\"div > article > a > div\")\n",
    "print(\"부산에 해당하는 장소들은 {}개 있습니다\".format(len(good_place)))\n",
    "time.sleep(1)\n",
    "\n",
    "Dramaland = pd.DataFrame()\n",
    "t = []\n",
    "s = []\n",
    "for p in tqdm(good_place):\n",
    "    title = p.find_element_by_css_selector(\"a > div > h2\").text\n",
    "    subtitle = p.find_element_by_css_selector(\"a > div > div\").text\n",
    "    t.append(title)\n",
    "    s.append(subtitle)"
   ]
  },
  {
   "cell_type": "code",
   "execution_count": 79,
   "id": "25eba604",
   "metadata": {
    "scrolled": true
   },
   "outputs": [
    {
     "data": {
      "text/html": [
       "<div>\n",
       "<style scoped>\n",
       "    .dataframe tbody tr th:only-of-type {\n",
       "        vertical-align: middle;\n",
       "    }\n",
       "\n",
       "    .dataframe tbody tr th {\n",
       "        vertical-align: top;\n",
       "    }\n",
       "\n",
       "    .dataframe thead th {\n",
       "        text-align: right;\n",
       "    }\n",
       "</style>\n",
       "<table border=\"1\" class=\"dataframe\">\n",
       "  <thead>\n",
       "    <tr style=\"text-align: right;\">\n",
       "      <th></th>\n",
       "      <th>Title</th>\n",
       "      <th>Subtitle</th>\n",
       "    </tr>\n",
       "  </thead>\n",
       "  <tbody>\n",
       "    <tr>\n",
       "      <th>0</th>\n",
       "      <td>Yangsan Station [양산역]</td>\n",
       "      <td>Grid (2022)</td>\n",
       "    </tr>\n",
       "    <tr>\n",
       "      <th>1</th>\n",
       "      <td>Yeonsan Station – Honam Line [연산역 호남선]</td>\n",
       "      <td>Yumi's Cells 2 (2022); Yumi's Cells (2021)</td>\n",
       "    </tr>\n",
       "    <tr>\n",
       "      <th>2</th>\n",
       "      <td>Café Ruhe [카페루헤]</td>\n",
       "      <td>Let Me Be Your Knight (2021-22)</td>\n",
       "    </tr>\n",
       "    <tr>\n",
       "      <th>3</th>\n",
       "      <td>Itaewon-ro 27ga-gil [이태원로27가길]</td>\n",
       "      <td>Melancholia (2021)</td>\n",
       "    </tr>\n",
       "    <tr>\n",
       "      <th>4</th>\n",
       "      <td>Busan X The Sky [부산엑스더스카이]</td>\n",
       "      <td>Now, We Are Breaking Up (2021-22)</td>\n",
       "    </tr>\n",
       "    <tr>\n",
       "      <th>...</th>\n",
       "      <td>...</td>\n",
       "      <td>...</td>\n",
       "    </tr>\n",
       "    <tr>\n",
       "      <th>76</th>\n",
       "      <td>Wiyang Pond [위양못 이팝나무]</td>\n",
       "      <td>Moon Lovers (2016)</td>\n",
       "    </tr>\n",
       "    <tr>\n",
       "      <th>77</th>\n",
       "      <td>Dongbaek Island [동백섬]</td>\n",
       "      <td>Shopping King Louis (2016)</td>\n",
       "    </tr>\n",
       "    <tr>\n",
       "      <th>78</th>\n",
       "      <td>Espérance Roasters Cafe [카페 에스페랑스]</td>\n",
       "      <td>Fight For My Way (2017); Entertainer (2016)</td>\n",
       "    </tr>\n",
       "    <tr>\n",
       "      <th>79</th>\n",
       "      <td>Seoul Station [서울역]</td>\n",
       "      <td>Melancholia (2021); Police University (2021); ...</td>\n",
       "    </tr>\n",
       "    <tr>\n",
       "      <th>80</th>\n",
       "      <td>Yongsan Station [용산역]</td>\n",
       "      <td>You Are My Spring (2021); Sisyphus: The Myth (...</td>\n",
       "    </tr>\n",
       "  </tbody>\n",
       "</table>\n",
       "<p>81 rows × 2 columns</p>\n",
       "</div>"
      ],
      "text/plain": [
       "                                     Title  \\\n",
       "0                    Yangsan Station [양산역]   \n",
       "1   Yeonsan Station – Honam Line [연산역 호남선]   \n",
       "2                         Café Ruhe [카페루헤]   \n",
       "3           Itaewon-ro 27ga-gil [이태원로27가길]   \n",
       "4               Busan X The Sky [부산엑스더스카이]   \n",
       "..                                     ...   \n",
       "76                  Wiyang Pond [위양못 이팝나무]   \n",
       "77                   Dongbaek Island [동백섬]   \n",
       "78      Espérance Roasters Cafe [카페 에스페랑스]   \n",
       "79                     Seoul Station [서울역]   \n",
       "80                   Yongsan Station [용산역]   \n",
       "\n",
       "                                             Subtitle  \n",
       "0                                         Grid (2022)  \n",
       "1          Yumi's Cells 2 (2022); Yumi's Cells (2021)  \n",
       "2                     Let Me Be Your Knight (2021-22)  \n",
       "3                                  Melancholia (2021)  \n",
       "4                   Now, We Are Breaking Up (2021-22)  \n",
       "..                                                ...  \n",
       "76                                 Moon Lovers (2016)  \n",
       "77                         Shopping King Louis (2016)  \n",
       "78        Fight For My Way (2017); Entertainer (2016)  \n",
       "79  Melancholia (2021); Police University (2021); ...  \n",
       "80  You Are My Spring (2021); Sisyphus: The Myth (...  \n",
       "\n",
       "[81 rows x 2 columns]"
      ]
     },
     "execution_count": 79,
     "metadata": {},
     "output_type": "execute_result"
    }
   ],
   "source": [
    "Dramaland['Title'] = t\n",
    "Dramaland['Subtitle'] = s\n",
    "Dramaland"
   ]
  },
  {
   "cell_type": "code",
   "execution_count": 83,
   "id": "03a76cc8",
   "metadata": {
    "scrolled": true
   },
   "outputs": [],
   "source": [
    "driver = webdriver.Chrome(path, options=options)\n",
    "driver.get(\"https://koreandramaland.com/jobs/?search_keywords=busan&search_categories%5B%5D=&submit=&filter_job_type%5B%5D=\")\n",
    "time.sleep(3)\n",
    "\n",
    "for i in tqdm(range(1,2)):\n",
    "\n",
    "    css = f\"div:nth-child({i}) > article > a > div\"\n",
    "    driver.find_element_by_css_selector(css).click()\n",
    "#     items = driver.find_element(By.CSS_SELECTOR, css)\n",
    "#     items.click()\n",
    "#     time.sleep(3)\n",
    "#     driver.switch_to.window(driver.window_handles[-1])\n",
    "#     time.sleep(3)\n",
    "\n",
    "#     place = driver.find_element_by_css_selector(\"div > div > header > h1\").text\n",
    "#     movie_title = driver.find_element_by_css_selector(\"div > div > header > div\").text\n",
    "\n",
    "#     print(place)\n",
    "#     print(movie_title)"
   ]
  },
  {
   "cell_type": "code",
   "execution_count": null,
   "id": "907eab0c",
   "metadata": {},
   "outputs": [],
   "source": [
    "#post-67061 > div:nth-child(2) > div > div > div.grid__item.column-content.entry-content > header > h1\n",
    "#post-65219 > div:nth-child(2) > div > div > div.grid__item.column-content.entry-content > header > h1\n",
    "\n",
    "#post-65219 > div:nth-child(2) > div > div > div.grid__item.column-content.entry-content > header > div.entry-subtitle"
   ]
  },
  {
   "cell_type": "code",
   "execution_count": 14,
   "id": "a00068a2",
   "metadata": {
    "scrolled": true
   },
   "outputs": [
    {
     "data": {
      "text/plain": [
       "'LISTINGS >> SUBWAY STATION\\nYangsan Station [양산역]\\nGrid (2022)\\nWrite a review\\nAdd to favorites\\nKim Ma-nok (Kim Sung-kyun) heads to this train station while being followed by plainclothes police officers in episode 3 of Grid/Geurideu (그리드) (Disney+, 2022).\\n* * *\\nYangsan Station [양산역/梁山驛], opened in 2008, is a subway station that carries the station code 243 on Busan Metro Line 2, located in Yangsan’s neighborhood Jungbu [Jungbu-dong/중부동].\\nThe scenes in Grid were mostly filmed at Exit 4. It is likely that some of the interior subway scenes were filmed elsewhere, as this station’s platform is above ground, and not underground.\\nAddress\\n441 Gangbyeon-ro, Yangsan, Gyeongsangnam-do\\n경상남도 양산시 강변로 441\\n(중부동 475-1)\\nGeolocation: 35.338626, 129.026359\\n— submitted by Mich KDL\\nComment this location\\nName *\\nEmail *\\nI accept the Privacy Policy\\nRate this location\\nVery Good\\n     Comment title\\nSubway Station'"
      ]
     },
     "execution_count": 14,
     "metadata": {},
     "output_type": "execute_result"
    }
   ],
   "source": [
    "a = driver.find_element_by_class_name(\"grid\").text\n",
    "a"
   ]
  },
  {
   "cell_type": "code",
   "execution_count": 16,
   "id": "0a026d1b",
   "metadata": {},
   "outputs": [
    {
     "data": {
      "text/plain": [
       "'Grid (2022)'"
      ]
     },
     "execution_count": 16,
     "metadata": {},
     "output_type": "execute_result"
    }
   ],
   "source": [
    "driver.find_element_by_css_selector(\"div > div > header > h1\").text\n",
    "driver.find_element_by_css_selector(\"div > div > header > div\").text"
   ]
  },
  {
   "cell_type": "code",
   "execution_count": 5,
   "id": "6d3baa62",
   "metadata": {
    "scrolled": true
   },
   "outputs": [],
   "source": [
    "driver = webdriver.Chrome(path, options=options)\n",
    "driver.get(\"https://koreandramaland.com/listings/yangsan-station/\")\n",
    "time.sleep(3)\n",
    "\n",
    "# place = driver.find_element(By.CLASS_NAME,\"entry-title\").text\n",
    "# movie_title = driver.find_element(By.CLASS_NAME,\"entry-subtitle\").text\n",
    "# place = driver.find_element_by_xpath(\"//h1[@itemprop='name']\")\n",
    "# movie_title = driver.find_element_by_xpath(\"//div[@itemprop='name']\")\n",
    "\n",
    "# # re = requests.get(driver.current_url)\n",
    "# # re_text = bs4.BeautifulSoup(re.text, 'lxml')\n",
    "\n",
    "\n",
    "\n",
    "# print(place.text)\n",
    "# print(movie_title.text)"
   ]
  }
 ],
 "metadata": {
  "kernelspec": {
   "display_name": "Python 3 (ipykernel)",
   "language": "python",
   "name": "python3"
  },
  "language_info": {
   "codemirror_mode": {
    "name": "ipython",
    "version": 3
   },
   "file_extension": ".py",
   "mimetype": "text/x-python",
   "name": "python",
   "nbconvert_exporter": "python",
   "pygments_lexer": "ipython3",
   "version": "3.9.7"
  }
 },
 "nbformat": 4,
 "nbformat_minor": 5
}
